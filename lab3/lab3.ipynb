{
 "cells": [
  {
   "cell_type": "code",
   "execution_count": 9,
   "id": "7a32ddea",
   "metadata": {},
   "outputs": [
    {
     "name": "stdout",
     "output_type": "stream",
     "text": [
      "请输入小数0.25\n",
      "0.01\n"
     ]
    }
   ],
   "source": [
    "#Q1\n",
    "res=[]\n",
    "xiaoshu=float(input(\"请输入小数\"))\n",
    "loop=0\n",
    "while xiaoshu !=0 and loop <=1000:\n",
    "    xiaoshu *= 2\n",
    "    tmp = int(xiaoshu)\n",
    "    xiaoshu -= tmp\n",
    "    res.append(tmp)\n",
    "    loop=loop+1\n",
    "res = \"\".join(map(str, res))\n",
    "print(\"0.\"+res)"
   ]
  },
  {
   "cell_type": "code",
   "execution_count": 10,
   "id": "284c31ed",
   "metadata": {},
   "outputs": [
    {
     "name": "stdout",
     "output_type": "stream",
     "text": [
      "11.754226709391126\n"
     ]
    }
   ],
   "source": [
    "#Q2\n",
    "import random\n",
    "random_float = random.uniform(10, 20)\n",
    "print(random_float)"
   ]
  },
  {
   "cell_type": "code",
   "execution_count": 3,
   "id": "5428bf89",
   "metadata": {},
   "outputs": [
    {
     "name": "stdout",
     "output_type": "stream",
     "text": [
      "110101199001011234 是合法的身份证号码\n",
      "123456789012345678 不是合法的身份证号码\n"
     ]
    }
   ],
   "source": [
    "#Q3\n",
    "import re\n",
    "\n",
    "def is_valid_id_number(id_number):\n",
    "    # 正则表达式模式，用于匹配中国大陆二代身份证号码\n",
    "    pattern = r\"^[1-9]\\d{5}(18|19|20)\\d{2}(0[1-9]|1[0-2])(0[1-9]|[1-2]\\d|3[0-1])\\d{3}[\\dXx]$\"\n",
    "    \n",
    "    # 使用正则表达式进行匹配\n",
    "    if re.match(pattern, id_number):\n",
    "        return True\n",
    "    else:\n",
    "        return False\n",
    "\n",
    "# 示例用法\n",
    "if __name__ == \"__main__\":\n",
    "    id_number1 = \"110101199001011234\"  # 合法的身份证号码\n",
    "    id_number2 = \"123456789012345678\"  # 不合法的身份证号码\n",
    "    \n",
    "    if is_valid_id_number(id_number1):\n",
    "        print(f\"{id_number1} 是合法的身份证号码\")\n",
    "    else:\n",
    "        print(f\"{id_number1} 不是合法的身份证号码\")\n",
    "    \n",
    "    if is_valid_id_number(id_number2):\n",
    "        print(f\"{id_number2} 是合法的身份证号码\")\n",
    "    else:\n",
    "        print(f\"{id_number2} 不是合法的身份证号码\")\n"
   ]
  },
  {
   "cell_type": "code",
   "execution_count": 31,
   "id": "c4811d95",
   "metadata": {},
   "outputs": [
    {
     "name": "stdout",
     "output_type": "stream",
     "text": [
      "1 -> 2 -> 3 -> 4 -> None\n",
      "1 -> 2 -> 4 -> None\n",
      "1 -> 5 -> 4 -> None\n",
      "True\n",
      "False\n"
     ]
    }
   ],
   "source": [
    "#Q4\n",
    "class Node:\n",
    "    def __init__(self, value):\n",
    "        self.value = value\n",
    "        self.next = None\n",
    "\n",
    "class LinkedList:\n",
    "    def __init__(self):\n",
    "        self.head = None\n",
    "\n",
    "    # 增加（插入）操作\n",
    "    def insert(self, value):\n",
    "        new_node = Node(value)\n",
    "        if not self.head:\n",
    "            self.head = new_node\n",
    "        else:\n",
    "            current = self.head\n",
    "            while current.next:\n",
    "                current = current.next\n",
    "            current.next = new_node\n",
    "\n",
    "    # 删除操作\n",
    "    def delete(self, value):\n",
    "        if not self.head:\n",
    "            return\n",
    "        \n",
    "        if self.head.value == value:\n",
    "            self.head = self.head.next\n",
    "            return\n",
    "        \n",
    "        current = self.head\n",
    "        while current.next:\n",
    "            if current.next.value == value:\n",
    "                current.next = current.next.next\n",
    "                return\n",
    "            current = current.next\n",
    "\n",
    "    # 修改操作\n",
    "    def update(self, old_value, new_value):\n",
    "        current = self.head\n",
    "        while current:\n",
    "            if current.value == old_value:\n",
    "                current.value = new_value\n",
    "                return\n",
    "            current = current.next\n",
    "\n",
    "    # 查找操作\n",
    "    def search(self, value):\n",
    "        current = self.head\n",
    "        while current:\n",
    "            if current.value == value:\n",
    "                return True\n",
    "            current = current.next\n",
    "        return False\n",
    "\n",
    "    # 打印链表\n",
    "    def display(self):\n",
    "        current = self.head\n",
    "        while current:\n",
    "            print(current.value, end=\" -> \")\n",
    "            current = current.next\n",
    "        print(\"None\")\n",
    "\n",
    "# 示例用法\n",
    "if __name__ == \"__main__\":\n",
    "    linked_list = LinkedList()\n",
    "\n",
    "    linked_list.insert(1)\n",
    "    linked_list.insert(2)\n",
    "    linked_list.insert(3)\n",
    "    linked_list.insert(4)\n",
    "\n",
    "    linked_list.display()  # 打印链表：1 -> 2 -> 3 -> 4 -> None\n",
    "\n",
    "    linked_list.delete(3)\n",
    "    linked_list.display()  # 打印链表：1 -> 2 -> 4 -> None\n",
    "\n",
    "    linked_list.update(2, 5)\n",
    "    linked_list.display()  # 打印链表：1 -> 5 -> 4 -> None\n",
    "\n",
    "    print(linked_list.search(5))  # 查找操作：True\n",
    "    print(linked_list.search(3))  # 查找操作：False\n"
   ]
  },
  {
   "cell_type": "code",
   "execution_count": 16,
   "id": "ccb931e9",
   "metadata": {},
   "outputs": [
    {
     "name": "stdout",
     "output_type": "stream",
     "text": [
      "2 4 6 8 10 12 14 16 18 20 22 24 26 28 30 32 34 36 38 40 42 44 46 48 50 52 54 56 58 60 62 64 66 68 70 72 74 76 78 80 82 84 86 88 90 92 94 96 98 100 "
     ]
    }
   ],
   "source": [
    "#Q5\n",
    "for i in range (1,101):\n",
    "    if i%2==0:\n",
    "        print(f\"{i} \",end=\"\")"
   ]
  },
  {
   "cell_type": "code",
   "execution_count": 19,
   "id": "bdbccaaa",
   "metadata": {},
   "outputs": [
    {
     "name": "stdout",
     "output_type": "stream",
     "text": [
      "请输入成绩90\n",
      "成绩等级为:优秀\n"
     ]
    }
   ],
   "source": [
    "#Q6\n",
    "def gradeNumToC(grade):\n",
    "    if grade < 60:\n",
    "        return \"不合格\"\n",
    "    if grade <75:\n",
    "        return \"合格\"\n",
    "    if grade <90:\n",
    "        return \"良好\"\n",
    "    return \"优秀\"\n",
    "\n",
    "grade = int(input(\"请输入成绩\"))#不做四舍五入，取整数部分\n",
    "print(f\"成绩等级为:{gradeNumToC(grade)}\")"
   ]
  },
  {
   "cell_type": "code",
   "execution_count": 22,
   "id": "3b7bb1ff",
   "metadata": {},
   "outputs": [
    {
     "name": "stdout",
     "output_type": "stream",
     "text": [
      "请输入第一个正整数21\n",
      "请输入第二个正整数15\n",
      "21 和 15 的最大公约数是 3\n"
     ]
    }
   ],
   "source": [
    "#Q7\n",
    "def gcd(a, b):\n",
    "    while b:\n",
    "        a, b = b, a % b\n",
    "    return a\n",
    "\n",
    "# 示例用法\n",
    "num1 = int(input(\"请输入第一个正整数\"))\n",
    "num2 = int(input(\"请输入第二个正整数\"))\n",
    "result = gcd(num1, num2)\n",
    "print(f\"{num1} 和 {num2} 的最大公约数是 {result}\")"
   ]
  },
  {
   "cell_type": "code",
   "execution_count": 13,
   "id": "42861715",
   "metadata": {
    "scrolled": false
   },
   "outputs": [
    {
     "data": {
      "image/png": "[encoded data removed]",
      "text/plain": [
       "<Figure size 640x480 with 1 Axes>"
      ]
     },
     "metadata": {},
     "output_type": "display_data"
    }
   ],
   "source": [
    "#Q8\n",
    "import random\n",
    "import time\n",
    "import matplotlib.pyplot as plt\n",
    "def generate_random_list(length):\n",
    "    return [random.randint(1, 10000) for _ in range(length)]\n",
    "\n",
    "def quick_sort(arr):\n",
    "    if len(arr) <= 1:\n",
    "        return arr\n",
    "    pivot = arr[len(arr) // 2]\n",
    "    left = [x for x in arr if x < pivot]\n",
    "    middle = [x for x in arr if x == pivot]\n",
    "    right = [x for x in arr if x > pivot]\n",
    "    return quick_sort(left) + middle + quick_sort(right)\n",
    "\n",
    "def bubble_sort(arr):\n",
    "    n = len(arr)\n",
    "    sign =False\n",
    "    for i in range(n):\n",
    "        for j in range(0, n-i-1):\n",
    "            if arr[j] > arr[j+1]:\n",
    "                arr[j], arr[j+1] = arr[j+1], arr[j]\n",
    "                sign = True\n",
    "        if not sign:\n",
    "            break\n",
    "\n",
    "def heapify(arr, n, i):\n",
    "    largest = i\n",
    "    left = 2 * i + 1\n",
    "    right = 2 * i + 2\n",
    "\n",
    "    if left < n and arr[left] > arr[largest]:\n",
    "        largest = left\n",
    "\n",
    "    if right < n and arr[right] > arr[largest]:\n",
    "        largest = right\n",
    "\n",
    "    if largest != i:\n",
    "        arr[i], arr[largest] = arr[largest], arr[i]\n",
    "        heapify(arr, n, largest)\n",
    "\n",
    "def heap_sort(arr):\n",
    "    n = len(arr)\n",
    "\n",
    "    for i in range(n // 2 - 1, -1, -1):\n",
    "        heapify(arr, n, i)\n",
    "\n",
    "    for i in range(n - 1, 0, -1):\n",
    "        arr[i], arr[0] = arr[0], arr[i]\n",
    "        heapify(arr, i, 0)\n",
    "\n",
    "\n",
    "# 测试不同长度的数列\n",
    "lengths = [1000,2000,4000,8000]\n",
    "#储存时间\n",
    "bubble_sort_times = []\n",
    "quick_sort_times = []\n",
    "heap_sort_times=[]\n",
    "for length in lengths:\n",
    "    arr = generate_random_list(length)\n",
    "    arr.sort()\n",
    "    \n",
    "    start_time = time.time()\n",
    "    sorted_arr_quick = quick_sort(arr.copy())\n",
    "    end_time = time.time()\n",
    "    quick_sort_time = end_time - start_time\n",
    "    quick_sort_times.append(quick_sort_time)\n",
    "    \n",
    "    start_time = time.time()\n",
    "    bubble_sort(arr.copy())\n",
    "    end_time = time.time()\n",
    "    bubble_sort_time = end_time - start_time\n",
    "    bubble_sort_times.append(bubble_sort_time)\n",
    "    \n",
    "    start_time = time.time()\n",
    "    heap_sort(arr.copy())\n",
    "    end_time = time.time()\n",
    "    heap_sort_time = end_time - start_time\n",
    "    heap_sort_times.append(heap_sort_time)\n",
    "\n",
    "    \n",
    "# 绘制排序时间图表\n",
    "plt.plot(lengths, bubble_sort_times, label='Bubble Sort', marker='o')\n",
    "plt.plot(lengths, quick_sort_times, label='Quick Sort', marker='x')\n",
    "plt.plot(lengths, heap_sort_times, label='Heap Sort', marker='1')\n",
    "plt.xlabel('List Length')\n",
    "plt.ylabel('Time (seconds)')\n",
    "plt.legend()\n",
    "plt.title('Sorting Algorithm Comparison')\n",
    "plt.show()\n"
   ]
  },
  {
   "cell_type": "markdown",
   "id": "a3115f01",
   "metadata": {},
   "source": [
    "可以发现冒泡排序所需的时间小于其他两者，因为在顺序数组中，从小到大的排序下，它的时间复杂度为O（n）,其他算法的时间复杂度为O（nlogn)。因为数组是顺序的，对于heap_sort来说，空间局部性较差，因此排序时间较久。"
   ]
  },
  {
   "cell_type": "code",
   "execution_count": 2,
   "id": "8b9327e8",
   "metadata": {},
   "outputs": [
    {
     "name": "stdout",
     "output_type": "stream",
     "text": [
      "[192, 96, 64, 48]\n"
     ]
    }
   ],
   "source": [
    "#Q9\n",
    "A=[2,4,6,8]\n",
    "length = len(A)\n",
    "B = [1]*length\n",
    "if length != 0:\n",
    "    B[0]=1\n",
    "    for i in range(1,length):\n",
    "        B[i]=B[i-1]*A[i-1]\n",
    "    temp = 1\n",
    "    for j in range(length -2,-1,-1):\n",
    "        temp *= A[j+1]\n",
    "        B[j]*=temp\n",
    "print(B)\n",
    "\n"
   ]
  }
 ],
 "metadata": {
  "kernelspec": {
   "display_name": "Python [conda env:machinelearning] *",
   "language": "python",
   "name": "conda-env-machinelearning-py"
  },
  "language_info": {
   "codemirror_mode": {
    "name": "ipython",
    "version": 3
   },
   "file_extension": ".py",
   "mimetype": "text/x-python",
   "name": "python",
   "nbconvert_exporter": "python",
   "pygments_lexer": "ipython3",
   "version": "3.8.18"
  }
 },
 "nbformat": 4,
 "nbformat_minor": 5
}
