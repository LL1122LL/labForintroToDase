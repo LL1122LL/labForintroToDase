{
 "cells": [
  {
   "cell_type": "code",
   "execution_count": 1,
   "id": "5a0115cb-7215-4cfc-82af-9667a9a18083",
   "metadata": {
    "tags": []
   },
   "outputs": [
    {
     "name": "stdout",
     "output_type": "stream",
     "text": [
      "Hello World\n"
     ]
    }
   ],
   "source": [
    "print(\"Hello World\")"
   ]
  },
  {
   "cell_type": "code",
   "execution_count": 2,
   "id": "c9f11d93-48d7-4c14-93bb-476847ad6475",
   "metadata": {
    "tags": []
   },
   "outputs": [
    {
     "name": "stdout",
     "output_type": "stream",
     "text": [
      "姓名：林子骥，学号：10225501460\n"
     ]
    }
   ],
   "source": [
    "print(\"姓名：林子骥，学号：10225501460\")"
   ]
  },
  {
   "cell_type": "code",
   "execution_count": 3,
   "id": "40c5739c-8773-4560-82a9-57be2ee51539",
   "metadata": {
    "tags": []
   },
   "outputs": [
    {
     "name": "stdout",
     "output_type": "stream",
     "text": [
      "★★★★★★★★★★\n",
      "***数据科学与工程导论***\n",
      "★★★★★★★★★★\n"
     ]
    }
   ],
   "source": [
    "def print_stars():\n",
    "    print(chr(0x2605) * 10)\n",
    "\n",
    "# 打印标题\n",
    "def print_title():\n",
    "    title = \"数据科学与工程导论\"\n",
    "    print_stars()\n",
    "    print(\"*\" * 3 + title + \"*\" * 3)\n",
    "    print_stars()\n",
    "\n",
    "# 调用函数打印标题\n",
    "print_title()"
   ]
  },
  {
   "cell_type": "code",
   "execution_count": 7,
   "id": "a66d23fb-4953-4c23-93a8-b0129368de23",
   "metadata": {
    "tags": []
   },
   "outputs": [
    {
     "name": "stdin",
     "output_type": "stream",
     "text": [
      "请输入第一个数： 2\n",
      "请输入第二个数： 0\n",
      "请输入第三个数： 4\n"
     ]
    },
    {
     "name": "stdout",
     "output_type": "stream",
     "text": [
      "0 2 4 "
     ]
    }
   ],
   "source": [
    "# 获取用户输入的三个数\n",
    "x = int(input(\"请输入第一个数：\"))\n",
    "y = int(input(\"请输入第二个数：\"))\n",
    "z = int(input(\"请输入第三个数：\"))\n",
    "\n",
    "# 定义一个函数，将三个数从小到大排序并打印出来\n",
    "def print_sorted_numbers(a, b, c):\n",
    "    numbers = [a, b, c]\n",
    "    numbers.sort()\n",
    "    for num in numbers:\n",
    "        print(num, end=\" \")\n",
    "\n",
    "# 调用函数打印排序后的数\n",
    "print_sorted_numbers(x, y, z)\n"
   ]
  },
  {
   "cell_type": "code",
   "execution_count": 4,
   "id": "dc54f547-30e9-4dff-9454-108410aaff41",
   "metadata": {},
   "outputs": [
    {
     "name": "stdin",
     "output_type": "stream",
     "text": [
      "请输入第一个数： 1\n",
      "请输入第二个数： 10\n",
      "请输入第三个数： 2\n",
      "请输入第三个数： 0\n"
     ]
    },
    {
     "name": "stdout",
     "output_type": "stream",
     "text": [
      "10 2 1 0 "
     ]
    }
   ],
   "source": [
    "# 获取用户输入的四个数\n",
    "x = int(input(\"请输入第一个数：\"))\n",
    "y = int(input(\"请输入第二个数：\"))\n",
    "z = int(input(\"请输入第三个数：\"))\n",
    "q= int(input(\"请输入第三个数：\"))\n",
    "\n",
    "# 定义一个函数，将四个数从大到小排序并打印出来\n",
    "def print_sorted_numbers(a, b, c,d):\n",
    "    numbers = [a, b, c,d]\n",
    "    numbers.sort(reverse = True)\n",
    "    for num in numbers:\n",
    "        print(num, end=\" \")\n",
    "\n",
    "# 调用函数打印排序后的数\n",
    "print_sorted_numbers(x, y, z,q)"
   ]
  },
  {
   "cell_type": "code",
   "execution_count": 5,
   "id": "28abafa3-30c6-4de6-bf4a-f0807d6ae3b0",
   "metadata": {},
   "outputs": [
    {
     "name": "stdout",
     "output_type": "stream",
     "text": [
      "1\n",
      "3\n",
      "5\n",
      "7\n",
      "9\n",
      "11\n",
      "13\n",
      "15\n",
      "17\n",
      "19\n",
      "21\n",
      "23\n",
      "25\n",
      "27\n",
      "29\n",
      "31\n",
      "33\n",
      "35\n",
      "37\n",
      "39\n",
      "41\n",
      "43\n",
      "45\n",
      "47\n",
      "49\n",
      "51\n",
      "53\n",
      "55\n",
      "57\n",
      "59\n",
      "61\n",
      "63\n",
      "65\n",
      "67\n",
      "69\n",
      "71\n",
      "73\n",
      "75\n",
      "77\n",
      "79\n",
      "81\n",
      "83\n",
      "85\n",
      "87\n",
      "89\n",
      "91\n",
      "93\n",
      "95\n",
      "97\n",
      "99\n"
     ]
    }
   ],
   "source": [
    "for num in range(1, 101):\n",
    "    if num % 2 == 1:  # 判断奇数\n",
    "        print(num)"
   ]
  },
  {
   "cell_type": "code",
   "execution_count": 6,
   "id": "e748630e-f380-4bba-aa81-de0a75764b9b",
   "metadata": {
    "tags": []
   },
   "outputs": [
    {
     "name": "stdout",
     "output_type": "stream",
     "text": [
      "5050\n"
     ]
    }
   ],
   "source": [
    "sum = 0\n",
    "for num in range(1,101):\n",
    "    sum += num\n",
    "print(sum)\n",
    "    "
   ]
  },
  {
   "cell_type": "code",
   "execution_count": 7,
   "id": "e90faf4b-7c6e-4815-a626-5bb59a267f0d",
   "metadata": {
    "tags": []
   },
   "outputs": [
    {
     "name": "stdout",
     "output_type": "stream",
     "text": [
      "5\n",
      "4\n",
      "3\n",
      "2\n",
      "1\n"
     ]
    }
   ],
   "source": [
    "# 定义给定序列\n",
    "sequence = [1, 2, 3, 4, 5]\n",
    "\n",
    "# 使用 while 循环实现倒序输出\n",
    "index = len(sequence) - 1\n",
    "while index >= 0:\n",
    "    print(sequence[index])\n",
    "    index -= 1\n"
   ]
  },
  {
   "cell_type": "code",
   "execution_count": 8,
   "id": "c11b1214-c68f-46c1-8bc6-1d6fd73583f2",
   "metadata": {
    "tags": []
   },
   "outputs": [
    {
     "name": "stdout",
     "output_type": "stream",
     "text": [
      "5\n",
      "4\n",
      "3\n",
      "2\n",
      "1\n"
     ]
    }
   ],
   "source": [
    "sequence = [1, 2, 3, 4, 5]\n",
    "for i in range(len(sequence)-1,-1,-1):\n",
    "    print(sequence[i])"
   ]
  },
  {
   "cell_type": "code",
   "execution_count": 16,
   "id": "a2e338b1-ca90-4bf1-b755-f6ced2091fe8",
   "metadata": {
    "tags": []
   },
   "outputs": [
    {
     "name": "stdin",
     "output_type": "stream",
     "text": [
      "请输入一串英文 acnd\n"
     ]
    },
    {
     "name": "stdout",
     "output_type": "stream",
     "text": [
      "是否有重复出现的字符：false\n"
     ]
    }
   ],
   "source": [
    "str = input(\"请输入一串英文\")\n",
    "#str = \"abccd\"\n",
    "def duplicate(str):\n",
    "    first = str[0]\n",
    "    for index in range(1,len(str)):\n",
    "        second = str[index]\n",
    "        if first == second:\n",
    "            return \"true\"\n",
    "        first = second\n",
    "    return \"false\"\n",
    "print(\"是否有重复出现的字符：\"+duplicate(str))"
   ]
  },
  {
   "cell_type": "code",
   "execution_count": 17,
   "id": "195f8560-a0ca-4f1b-b735-a45da6477216",
   "metadata": {
    "tags": []
   },
   "outputs": [
    {
     "name": "stdin",
     "output_type": "stream",
     "text": [
      "请输入字符串 asdad d d\n"
     ]
    },
    {
     "name": "stdout",
     "output_type": "stream",
     "text": [
      "去掉空格后的字符串：asdaddd\n"
     ]
    }
   ],
   "source": [
    "str = input (\"请输入字符串\")\n",
    "nonspacestr = str.replace(\" \",\"\")\n",
    "print(\"去掉空格后的字符串：\"+nonspacestr)"
   ]
  },
  {
   "cell_type": "code",
   "execution_count": 26,
   "id": "fa991388-58f2-44e9-8cab-fe6dd648f4dc",
   "metadata": {
    "tags": []
   },
   "outputs": [
    {
     "name": "stdin",
     "output_type": "stream",
     "text": [
      "请输入实数： 27\n"
     ]
    },
    {
     "name": "stdout",
     "output_type": "stream",
     "text": [
      "27.0的立方根为3.0\n"
     ]
    }
   ],
   "source": [
    "def cube(num):\n",
    "    x = 1.0\n",
    "    x1 = x - (x*x*x - num) / (3*x*x);\n",
    "    while abs(x - x1) >0.000000001:\n",
    "        x = x1;\n",
    "        x1 = x - (x*x*x - num) / (3*x*x)\n",
    "    return x1\n",
    "\n",
    "num = float(input(\"请输入实数：\"))\n",
    "out = cube(num)\n",
    "print(f\"{num}的立方根为{out}\")\n"
   ]
  },
  {
   "cell_type": "code",
   "execution_count": 31,
   "id": "f1f90ca8-883a-4fa3-aa9e-bb5015dce454",
   "metadata": {
    "tags": []
   },
   "outputs": [
    {
     "name": "stdin",
     "output_type": "stream",
     "text": [
      "请输入一个整数 5\n"
     ]
    },
    {
     "name": "stdout",
     "output_type": "stream",
     "text": [
      "5的阶乘为120\n"
     ]
    }
   ],
   "source": [
    "def fib(n):\n",
    "    if n == 1 | n==0:\n",
    "        return 1\n",
    "    if n == 2:\n",
    "        return 2\n",
    "    return fib(n-1)*n\n",
    "num = int(input(\"请输入一个整数\"))\n",
    "res = fib(num)\n",
    "print(f\"{num}的阶乘为{res}\")"
   ]
  },
  {
   "cell_type": "code",
   "execution_count": null,
   "id": "ae500d73-0ecb-4407-a6fc-7e210c60023d",
   "metadata": {},
   "outputs": [],
   "source": []
  }
 ],
 "metadata": {
  "kernelspec": {
   "display_name": "Python 3 (ipykernel)",
   "language": "python",
   "name": "python3"
  },
  "language_info": {
   "codemirror_mode": {
    "name": "ipython",
    "version": 3
   },
   "file_extension": ".py",
   "mimetype": "text/x-python",
   "name": "python",
   "nbconvert_exporter": "python",
   "pygments_lexer": "ipython3",
   "version": "3.8.18"
  }
 },
 "nbformat": 4,
 "nbformat_minor": 5
}
