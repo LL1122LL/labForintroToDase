{
 "cells": [
  {
   "cell_type": "code",
   "execution_count": 1,
   "id": "77a726d0",
   "metadata": {},
   "outputs": [
    {
     "name": "stdout",
     "output_type": "stream",
     "text": [
      "请输入一个整数: 2001\n",
      "[2, 2, 2, 2, 2, 2, 2, 2, 2, 2, 2, 2, 2, 2, 2, 2, 2, 2, 2, 2, 2, 2, 2, 2, 2, 2, 2, 2, 2, 2, 2, 2, 2, 2, 2, 2, 2, 2, 2, 2, 2, 2, 2, 2, 2, 2, 2, 2, 2, 2, 2, 2, 2, 2, 2, 2, 2, 2, 2, 2, 2, 2, 2, 2, 2, 2, 2, 2, 2, 2, 2, 2, 2, 2, 2, 2, 2, 2, 2, 2, 2, 2, 2, 2, 2, 2, 2, 2, 2, 2, 2, 2, 2, 2, 2, 2, 2, 2, 2, 2, 2, 2, 2, 2, 2, 2, 2, 2, 2, 2, 2, 2, 2, 2, 2, 2, 2, 2, 2, 2, 2, 2, 2, 2, 2, 2, 2, 2, 2, 2, 2, 2, 2, 2, 2, 2, 2, 2, 2, 2, 2, 2, 2, 2, 2, 2, 2, 2, 2, 2, 2, 2, 2, 2, 2, 2, 2, 2, 2, 2, 2, 2, 2, 2, 2, 2, 2, 2, 2, 2, 2, 2, 2, 2, 2, 2, 2, 2, 2, 2, 2, 2, 2, 2, 2, 2, 2, 2, 2, 2, 2, 2, 2, 2, 2, 2, 2, 2, 2, 2, 2, 2, 2, 2, 2, 2, 2, 2, 2, 2, 2, 2, 2, 2, 2, 2, 2, 2, 2, 2, 2, 2, 2, 2, 2, 2, 2, 2, 2, 2, 2, 2, 2, 2, 2, 2, 2, 2, 2, 2, 2, 2, 2, 2, 2, 2, 2, 2, 2, 2, 2, 2, 2, 2, 2, 2, 2, 2, 2, 2, 2, 2, 2, 2, 2, 2, 2, 2, 2, 2, 2, 2, 2, 2, 2, 2, 2, 2, 2, 2, 2, 2, 2, 2, 2, 2, 2, 2, 2, 2, 2, 2, 2, 2, 2, 2, 2, 2, 2, 2, 2, 2, 2, 2, 2, 2, 2, 2, 2, 2, 2, 2, 2, 2, 2, 2, 2, 2, 2, 2, 2, 2, 2, 2, 2, 2, 2, 2, 2, 2, 2, 2, 2, 2, 2, 2, 2, 2, 2, 2, 2, 2, 2, 2, 2, 2, 2, 2, 2, 2, 2, 2, 2, 2, 2, 2, 2, 2, 2, 2, 2, 2, 2, 2, 2, 2, 2, 2, 2, 2, 2, 2, 2, 2, 2, 2, 2, 2, 2, 2, 2, 2, 2, 2, 2, 2, 2, 2, 2, 2, 2, 2, 2, 2, 2, 2, 2, 2, 2, 2, 2, 2, 2, 2, 2, 2, 2, 2, 2, 2, 2, 2, 2, 2, 2, 2, 2, 2, 2, 2, 2, 2, 2, 2, 2, 2, 2, 2, 2, 2, 2, 2, 2, 2, 2, 2, 2, 2, 2, 2, 2, 2, 2, 2, 2, 2, 2, 2, 2, 2, 2, 2, 2, 2, 2, 2, 2, 2, 2, 2, 2, 2, 2, 2, 2, 2, 2, 2, 2, 2, 2, 2, 2, 2, 2, 2, 2, 2, 2, 2, 2, 2, 2, 2, 2, 2, 2, 2, 2, 2, 2, 2, 2, 2, 2, 2, 2, 2, 2, 2, 2, 2, 2, 2, 2, 2, 2, 2, 2, 2, 2, 2, 2, 2, 2, 2, 2, 2, 2, 2, 2, 2, 2, 2, 2, 2, 2, 2, 2, 2, 2, 2, 2, 2, 2, 2, 2, 2, 2, 2, 2, 2, 2, 2, 2, 2, 2, 2, 2, 2, 2, 2, 2, 2, 2, 2, 2, 2, 2, 2, 2, 2, 2, 2, 2, 2, 2, 2, 2, 2, 2, 2, 2, 2, 2, 2, 2, 2, 2, 2, 2, 2, 2, 2, 2, 2, 2, 2, 2, 2, 2, 2, 2, 2, 2, 2, 2, 2, 2, 2, 2, 2, 2, 2, 2, 2, 2, 2, 2, 2, 2, 2, 2, 2, 2, 2, 2, 2, 2, 2, 2, 2, 2, 2, 2, 2, 2, 2, 2, 2, 2, 2, 2, 2, 2, 2, 2, 2, 2, 2, 2, 2, 2, 2, 2, 2, 2, 2, 2, 2, 2, 2, 2, 2, 2, 2, 2, 2, 2, 2, 2, 2, 2, 2, 2, 2, 2, 2, 2, 2, 2, 2, 2, 2, 2, 2, 2, 2, 2, 2, 2, 2, 2, 2, 2, 2, 2, 2, 2, 2, 2, 2, 2, 2, 2, 2, 2, 2, 2, 2, 2, 2, 2, 2, 2, 2, 2, 2, 2, 2, 2, 2, 2, 2, 2, 2, 2, 2, 2, 2, 2, 2, 2, 2, 2, 2, 2, 2, 2, 2, 2, 2, 2, 2, 2, 2, 2, 2, 2, 2, 2, 2, 2, 2, 2, 2, 2, 2, 2, 2, 2, 2, 2, 2, 2, 2, 2, 2, 2, 2, 2, 2, 2, 2, 2, 2, 2, 2, 2, 2, 2, 2, 2, 2, 2, 2, 2, 2, 2, 2, 2, 2, 2, 2, 2, 2, 2, 2, 2, 2, 2, 2, 2, 2, 2, 2, 2, 2, 2, 2, 2, 2, 2, 2, 2, 2, 2, 2, 2, 2, 2, 2, 2, 2, 2, 2, 2, 2, 2, 2, 2, 2, 2, 2, 2, 2, 2, 2, 2, 2, 2, 2, 2, 2, 2, 2, 2, 2, 2, 2, 2, 2, 2, 2, 2, 2, 2, 2, 2, 2, 2, 2, 2, 2, 2, 2, 2, 2, 2, 2, 2, 2, 2, 2, 2, 2, 2, 2, 2, 2, 2, 2, 2, 2, 2, 2, 2, 2, 2, 2, 2, 2, 2, 2, 2, 2, 2, 2, 2, 2, 2, 2, 2, 2, 2, 2, 2, 2, 2, 2, 2, 2, 2, 2, 2, 2, 2, 2, 2, 2, 2, 2, 2, 2, 2, 2, 2, 2, 2, 2, 2, 2, 2, 2, 2, 2, 2, 2, 2, 2, 3, 3, 3, 3, 3, 3, 3, 3, 3, 3, 3, 3, 3, 3, 3, 3, 3, 3, 3, 3, 3, 3, 3, 3, 3, 3, 3, 3, 3, 3, 3, 3, 3, 3, 3, 3, 3, 3, 3, 3, 3, 3, 3, 3, 3, 3, 3]\n"
     ]
    }
   ],
   "source": [
    "#first q\n",
    "\n",
    "list =[]\n",
    "def get_max_mul(n):\n",
    "    if n==1 :\n",
    "        list.append(n)\n",
    "        return 1\n",
    "    elif n==2:\n",
    "        list.append(n)\n",
    "        return 2\n",
    "    elif n ==3:\n",
    "        list.append(n)\n",
    "        return 3\n",
    "    else:\n",
    "        return get_max_mul(int(n/2))+get_max_mul(n-int(n/2))\n",
    "\n",
    "                           \n",
    "x= int(input(\"请输入一个整数: \"))\n",
    "\n",
    "get_max_mul(x)\n",
    "sorted_list = sorted(list)\n",
    "print(sorted_list)\n",
    "\n"
   ]
  },
  {
   "cell_type": "markdown",
   "id": "daf6fde3",
   "metadata": {},
   "source": [
    "充分性：假设对于一个正整数n，一次只取两个数a,b(1<a,b<n),很明显a，b为中位数时，a*b最大，然后对a,b重复之前的操作\n",
    "必要性：对于任意三个元素，a,b,c，(从小到大.)，积为abc。若abs(a+b-c)!=1，总存在abs(a2+b2-c2)=1的情况使得积最大。"
   ]
  },
  {
   "cell_type": "code",
   "execution_count": 4,
   "id": "7009e00a",
   "metadata": {},
   "outputs": [
    {
     "name": "stdout",
     "output_type": "stream",
     "text": [
      "2的10次方：1024\n",
      "2的20次方:1048576\n",
      "2的30次方:1073741824\n",
      "2的40次方:1099511627776\n",
      "2的50次方:1125899906842624\n"
     ]
    }
   ],
   "source": [
    "#second Q\n",
    "print(f\"2的10次方：{2**10}\")\n",
    "print(f\"2的20次方:{2**20}\")\n",
    "print(f\"2的30次方:{2**30}\")\n",
    "print(f\"2的40次方:{2**40}\")\n",
    "print(f\"2的50次方:{2**50}\")"
   ]
  },
  {
   "cell_type": "code",
   "execution_count": 1,
   "id": "fa0e47e7",
   "metadata": {},
   "outputs": [
    {
     "ename": "RecursionError",
     "evalue": "maximum recursion depth exceeded in comparison",
     "output_type": "error",
     "traceback": [
      "\u001b[1;31m---------------------------------------------------------------------------\u001b[0m",
      "\u001b[1;31mRecursionError\u001b[0m                            Traceback (most recent call last)",
      "Cell \u001b[1;32mIn[1], line 23\u001b[0m\n\u001b[0;32m     21\u001b[0m state \u001b[38;5;241m=\u001b[39m (\u001b[38;5;241m0\u001b[39m, \u001b[38;5;241m0\u001b[39m, \u001b[38;5;241m0\u001b[39m, \u001b[38;5;241m0\u001b[39m, \u001b[38;5;241m0\u001b[39m)  \u001b[38;5;66;03m# 初始状态，(0, 0, 0, 0, 0)表示人、狼、羊、菜和船都在起点岸边\u001b[39;00m\n\u001b[0;32m     22\u001b[0m path \u001b[38;5;241m=\u001b[39m []  \u001b[38;5;66;03m# 记录路径\u001b[39;00m\n\u001b[1;32m---> 23\u001b[0m \u001b[43mdfs\u001b[49m\u001b[43m(\u001b[49m\u001b[43mstate\u001b[49m\u001b[43m,\u001b[49m\u001b[43m \u001b[49m\u001b[43mpath\u001b[49m\u001b[43m)\u001b[49m\n",
      "Cell \u001b[1;32mIn[1], line 18\u001b[0m, in \u001b[0;36mdfs\u001b[1;34m(state, path)\u001b[0m\n\u001b[0;32m     16\u001b[0m new_state[i] \u001b[38;5;241m=\u001b[39m \u001b[38;5;241m1\u001b[39m \u001b[38;5;241m-\u001b[39m state[i]\n\u001b[0;32m     17\u001b[0m \u001b[38;5;28;01mif\u001b[39;00m valid(new_state):\n\u001b[1;32m---> 18\u001b[0m     \u001b[43mdfs\u001b[49m\u001b[43m(\u001b[49m\u001b[38;5;28;43mtuple\u001b[39;49m\u001b[43m(\u001b[49m\u001b[43mnew_state\u001b[49m\u001b[43m)\u001b[49m\u001b[43m,\u001b[49m\u001b[43m \u001b[49m\u001b[43mpath\u001b[49m\u001b[43m \u001b[49m\u001b[38;5;241;43m+\u001b[39;49m\u001b[43m \u001b[49m\u001b[43m[\u001b[49m\u001b[43m(\u001b[49m\u001b[43mi\u001b[49m\u001b[43m,\u001b[49m\u001b[43m \u001b[49m\u001b[43mstate\u001b[49m\u001b[43m[\u001b[49m\u001b[38;5;241;43m0\u001b[39;49m\u001b[43m]\u001b[49m\u001b[43m)\u001b[49m\u001b[43m]\u001b[49m\u001b[43m)\u001b[49m\n",
      "Cell \u001b[1;32mIn[1], line 18\u001b[0m, in \u001b[0;36mdfs\u001b[1;34m(state, path)\u001b[0m\n\u001b[0;32m     16\u001b[0m new_state[i] \u001b[38;5;241m=\u001b[39m \u001b[38;5;241m1\u001b[39m \u001b[38;5;241m-\u001b[39m state[i]\n\u001b[0;32m     17\u001b[0m \u001b[38;5;28;01mif\u001b[39;00m valid(new_state):\n\u001b[1;32m---> 18\u001b[0m     \u001b[43mdfs\u001b[49m\u001b[43m(\u001b[49m\u001b[38;5;28;43mtuple\u001b[39;49m\u001b[43m(\u001b[49m\u001b[43mnew_state\u001b[49m\u001b[43m)\u001b[49m\u001b[43m,\u001b[49m\u001b[43m \u001b[49m\u001b[43mpath\u001b[49m\u001b[43m \u001b[49m\u001b[38;5;241;43m+\u001b[39;49m\u001b[43m \u001b[49m\u001b[43m[\u001b[49m\u001b[43m(\u001b[49m\u001b[43mi\u001b[49m\u001b[43m,\u001b[49m\u001b[43m \u001b[49m\u001b[43mstate\u001b[49m\u001b[43m[\u001b[49m\u001b[38;5;241;43m0\u001b[39;49m\u001b[43m]\u001b[49m\u001b[43m)\u001b[49m\u001b[43m]\u001b[49m\u001b[43m)\u001b[49m\n",
      "    \u001b[1;31m[... skipping similar frames: dfs at line 18 (2968 times)]\u001b[0m\n",
      "Cell \u001b[1;32mIn[1], line 18\u001b[0m, in \u001b[0;36mdfs\u001b[1;34m(state, path)\u001b[0m\n\u001b[0;32m     16\u001b[0m new_state[i] \u001b[38;5;241m=\u001b[39m \u001b[38;5;241m1\u001b[39m \u001b[38;5;241m-\u001b[39m state[i]\n\u001b[0;32m     17\u001b[0m \u001b[38;5;28;01mif\u001b[39;00m valid(new_state):\n\u001b[1;32m---> 18\u001b[0m     \u001b[43mdfs\u001b[49m\u001b[43m(\u001b[49m\u001b[38;5;28;43mtuple\u001b[39;49m\u001b[43m(\u001b[49m\u001b[43mnew_state\u001b[49m\u001b[43m)\u001b[49m\u001b[43m,\u001b[49m\u001b[43m \u001b[49m\u001b[43mpath\u001b[49m\u001b[43m \u001b[49m\u001b[38;5;241;43m+\u001b[39;49m\u001b[43m \u001b[49m\u001b[43m[\u001b[49m\u001b[43m(\u001b[49m\u001b[43mi\u001b[49m\u001b[43m,\u001b[49m\u001b[43m \u001b[49m\u001b[43mstate\u001b[49m\u001b[43m[\u001b[49m\u001b[38;5;241;43m0\u001b[39;49m\u001b[43m]\u001b[49m\u001b[43m)\u001b[49m\u001b[43m]\u001b[49m\u001b[43m)\u001b[49m\n",
      "Cell \u001b[1;32mIn[1], line 7\u001b[0m, in \u001b[0;36mdfs\u001b[1;34m(state, path)\u001b[0m\n\u001b[0;32m      6\u001b[0m \u001b[38;5;28;01mdef\u001b[39;00m \u001b[38;5;21mdfs\u001b[39m(state, path):\n\u001b[1;32m----> 7\u001b[0m     \u001b[38;5;28;01mif\u001b[39;00m \u001b[43mstate\u001b[49m\u001b[43m \u001b[49m\u001b[38;5;241;43m==\u001b[39;49m\u001b[43m \u001b[49m\u001b[43m(\u001b[49m\u001b[38;5;241;43m1\u001b[39;49m\u001b[43m,\u001b[49m\u001b[43m \u001b[49m\u001b[38;5;241;43m1\u001b[39;49m\u001b[43m,\u001b[49m\u001b[43m \u001b[49m\u001b[38;5;241;43m1\u001b[39;49m\u001b[43m,\u001b[49m\u001b[43m \u001b[49m\u001b[38;5;241;43m1\u001b[39;49m\u001b[43m)\u001b[49m:\n\u001b[0;32m      8\u001b[0m         \u001b[38;5;28mprint\u001b[39m(path)\n\u001b[0;32m      9\u001b[0m         \u001b[38;5;28;01mreturn\u001b[39;00m\n",
      "\u001b[1;31mRecursionError\u001b[0m: maximum recursion depth exceeded in comparison"
     ]
    }
   ],
   "source": [
    "def valid(state):\n",
    "    # 检查是否有羊和狼在一起，或者有羊和菜在一起\n",
    "    if (state[1] == state[2] and state[0] != state[1]) or (state[2] == state[3] and state[0] != state[2]):\n",
    "        return False\n",
    "    return True\n",
    "def dfs(state, path):\n",
    "    if state == (1, 1, 1, 1):\n",
    "        print(path)\n",
    "        return\n",
    "    \n",
    "    for i in range(5):\n",
    "       # if i != 0 and i!=4 and state[i]==1:continue\n",
    "        if state[i] == state[0]:\n",
    "            new_state = list(state)\n",
    "            new_state[0] = 1 - state[0]\n",
    "            new_state[i] = 1 - state[i]\n",
    "            if valid(new_state):\n",
    "                dfs(tuple(new_state), path + [(i, state[0])])\n",
    "#import sys\n",
    "#sys.setrecursionlimit(20000) \n",
    "state = (0, 0, 0, 0, 0)  # 初始状态，(0, 0, 0, 0, 0)表示人、狼、羊、菜和船都在起点岸边\n",
    "path = []  # 记录路径\n",
    "dfs(state, path)"
   ]
  },
  {
   "cell_type": "code",
   "execution_count": null,
   "id": "703d7058",
   "metadata": {},
   "outputs": [],
   "source": [
    "#修改后的方法\n",
    "def is_valid_state(state):\n",
    "    # 检查是否有不安全的状态，即狼吃羊或羊吃菜\n",
    "    if (state[1] == state[2] and state[0] != state[1]) or (state[2] == state[3] and state[0] != state[2]):\n",
    "        return False\n",
    "    return True\n",
    "\n",
    "def dfs(state, path, visited):\n",
    "    if state == (0, 0, 0, 0):\n",
    "        # 找到了解决方案\n",
    "        print(\"找到解决方案：\", path)\n",
    "        return\n",
    "\n",
    "    for move in moves:\n",
    "        new_state = tuple(state[i] + move[i] for i in range(4))\n",
    "        if all(0 <= new_state[i] <= 1 for i in range(4)) and is_valid_state(new_state) and new_state not in visited:\n",
    "            visited.add(new_state)\n",
    "            dfs(new_state, path + [new_state], visited)\n",
    "            visited.remove(new_state)\n",
    "\n",
    "# 初始状态：(1, 1, 1, 1) 表示人、狼、羊、菜都在起始岸\n",
    "initial_state = (1, 1, 1, 1)\n",
    "# 移动方式\n",
    "moves = [\n",
    "    (-1, 0, 0, 0), \n",
    "    (-1, -1, 0, 0),\n",
    "    (-1, 0, -1, 0),\n",
    "    (-1, 0, 0, -1),\n",
    "    (1, 0, 0, 0),\n",
    "    (1, 1, 0, 0),\n",
    "    (1, 0, 1, 0),\n",
    "    (1, 0, 0, 1)\n",
    "]\n",
    "\n",
    "visited = set()\n",
    "visited.add(initial_state)\n",
    "\n",
    "dfs(initial_state, [initial_state], visited)"
   ]
  },
  {
   "cell_type": "code",
   "execution_count": 7,
   "id": "757a20ea",
   "metadata": {},
   "outputs": [
    {
     "name": "stdout",
     "output_type": "stream",
     "text": [
      "输入一个需要开方的值2\n",
      "近似根号2的值: 1.4142135623746899\n"
     ]
    }
   ],
   "source": [
    "#fourth question\n",
    "#用while循环，笨方法得到根号2\n",
    "# 初始猜测值\n",
    "c = int(input(\"输入一个需要开方的值\"))\n",
    "guess = c/2\n",
    "\n",
    "# 逼近根号2的精度\n",
    "epsilon = 1e-6\n",
    "\n",
    "while abs(guess * guess - c) > epsilon:\n",
    "    guess = 0.5 * (guess + c / guess)\n",
    "\n",
    "print(f\"近似根号{c}的值:\", guess)\n"
   ]
  },
  {
   "cell_type": "code",
   "execution_count": 10,
   "id": "e4e22f42",
   "metadata": {},
   "outputs": [],
   "source": [
    "#question 5\n",
    "def f(x,c):\n",
    "    return x**2 - c\n",
    "\n",
    "def df(x):\n",
    "    return 2 * x\n",
    "def start():\n",
    "    c = int(input(\"输入一个需要开方的值\"))\n",
    "    guess = c/2\n",
    "\n",
    "    # 逼近根号2的精度\n",
    "    epsilon = 1e-6\n",
    "\n",
    "    while abs(f(guess,c)) > epsilon:\n",
    "        guess = guess - f(guess,c) / df(guess)\n",
    "    print(f\"近似根号{c}的值:\", guess)\n"
   ]
  },
  {
   "cell_type": "code",
   "execution_count": 11,
   "id": "3d93e486",
   "metadata": {},
   "outputs": [
    {
     "name": "stdout",
     "output_type": "stream",
     "text": [
      "输入一个需要开方的值2\n",
      "近似根号2的值: 1.4142135623746899\n"
     ]
    }
   ],
   "source": [
    "start()"
   ]
  },
  {
   "cell_type": "code",
   "execution_count": 12,
   "id": "6724bf58",
   "metadata": {},
   "outputs": [
    {
     "name": "stdout",
     "output_type": "stream",
     "text": [
      "输入一个需要开方的值2000\n",
      "近似根号2000的值: 44.72135956001241\n"
     ]
    }
   ],
   "source": [
    "start()"
   ]
  },
  {
   "cell_type": "code",
   "execution_count": 29,
   "id": "f060afbb",
   "metadata": {},
   "outputs": [],
   "source": [
    "#question 6\n",
    "c = 2\n",
    "def f(x,c):\n",
    "    return x**2 - c\n",
    "\n",
    "def df(x):\n",
    "    return 2 * x\n",
    "def sqrt(guess):\n",
    "    # 逼近根号2的精度\n",
    "    epsilon = 1e-6\n",
    "    cnt = 0\n",
    "    while abs(f(guess,c)) > epsilon:\n",
    "        guess = guess - f(guess,c) / df(guess)\n",
    "        cnt = cnt +1\n",
    "    print(f\"近似根号{c}的值:{guess}\\n牛顿法迭代次数：{cnt}\")\n"
   ]
  },
  {
   "cell_type": "code",
   "execution_count": 30,
   "id": "ab315fab",
   "metadata": {},
   "outputs": [
    {
     "name": "stdout",
     "output_type": "stream",
     "text": [
      "近似根号2的值:1.4142135623746899\n",
      "牛顿法迭代次数：4\n"
     ]
    }
   ],
   "source": [
    "#guess初始值为c\n",
    "sqrt(2)"
   ]
  },
  {
   "cell_type": "code",
   "execution_count": 31,
   "id": "459186af",
   "metadata": {},
   "outputs": [
    {
     "name": "stdout",
     "output_type": "stream",
     "text": [
      "近似根号2的值:1.414213562704421\n",
      "牛顿法迭代次数：6\n"
     ]
    }
   ],
   "source": [
    "#guess初始值为c/4\n",
    "sqrt(1/4)"
   ]
  },
  {
   "cell_type": "markdown",
   "id": "c4bddccf",
   "metadata": {},
   "source": [
    "改变 guess 的初始值会影响牛顿法的迭代过程和最终的结果。牛顿法是一个迭代方法，它依赖于初始猜测值来启动迭代并逼近根。\n",
    "\n",
    "合理的初始猜测值： 如果你选择一个合理的初始猜测值，通常可以更快地逼近根。合理的初始猜测值意味着它足够接近根，以便在几次迭代后就能达到所需的精度。这可以加速计算的收敛速度。\n",
    "\n",
    "不合理的初始猜测值： 如果你选择一个远离根的初始猜测值，可能需要更多的迭代才能逼近根，并且收敛速度可能会变慢。此外，如果初始猜测值非常远离根，牛顿法可能会失败或者产生不稳定的结果。\n",
    "\n",
    "因此，选择一个合适的初始猜测值对于使用牛顿法来求解方程的成功非常重要。通常，初始猜测值可以通过先验知识、近似值或其他方法来估计。如果你有一个好的初始猜测值，牛顿法通常能够快速且稳定地逼近根。如果初始猜测值选择不当，可能需要更多的计算步骤才能获得满意的结果。"
   ]
  },
  {
   "cell_type": "code",
   "execution_count": 39,
   "id": "937f3e26",
   "metadata": {},
   "outputs": [],
   "source": [
    "#question 7\n",
    "def f(x,c):\n",
    "    return x**3 - c\n",
    "\n",
    "def df(x):\n",
    "    return 3 * (x**2)\n",
    "def triple(c):\n",
    "    # 逼近根号2的精度\n",
    "    epsilon = 1e-6\n",
    "    guess = 1\n",
    "    cnt = 0\n",
    "    while abs(f(guess,c)) > epsilon:\n",
    "        guess = guess - f(guess,c) / df(guess)\n",
    "        cnt = cnt +1\n",
    "    print(f\"近似三次方根{c}的值:{guess}\\n牛顿法迭代次数：{cnt}\")"
   ]
  },
  {
   "cell_type": "code",
   "execution_count": 40,
   "id": "f77397f7",
   "metadata": {},
   "outputs": [
    {
     "name": "stdout",
     "output_type": "stream",
     "text": [
      "近似三次方根8的值:2.0000000000120624\n",
      "牛顿法迭代次数：6\n"
     ]
    }
   ],
   "source": [
    "triple(8)"
   ]
  },
  {
   "cell_type": "code",
   "execution_count": 51,
   "id": "915e0c2d",
   "metadata": {},
   "outputs": [],
   "source": [
    "# 8 question\n",
    "#3种方法求解PI值，并比较他们的效率，保留到小数点后10位\n",
    "import random\n",
    "\n",
    "def monte_carlo_pi(num_samples):\n",
    "    inside_circle = 0\n",
    "\n",
    "    for _ in range(num_samples):\n",
    "        x = random.uniform(0, 1)\n",
    "        y = random.uniform(0, 1)\n",
    "        if x**2 + y**2 <= 1:\n",
    "            inside_circle += 1\n",
    "\n",
    "    return (inside_circle / num_samples) * 4 \n"
   ]
  },
  {
   "cell_type": "code",
   "execution_count": 52,
   "id": "97f7f439",
   "metadata": {},
   "outputs": [],
   "source": [
    "import decimal\n",
    "\n",
    "def machin_pi(num_digits):\n",
    "    decimal.getcontext().prec = num_digits + 2\n",
    "    pi = decimal.Decimal(0)\n",
    "\n",
    "    for k in range(num_digits):\n",
    "        pi += (decimal.Decimal(1) / 16**k) * (\n",
    "            4 / (8*k + 1) - 2 / (8*k + 4) - 1 / (8*k + 5) - 1 / (8*k + 6)\n",
    "        )\n",
    "\n",
    "    return str(pi)[:num_digits+1]"
   ]
  },
  {
   "cell_type": "code",
   "execution_count": 53,
   "id": "ac224b86",
   "metadata": {},
   "outputs": [],
   "source": [
    "def leibniz_pi(num_terms):\n",
    "    pi_estimate = 0\n",
    "\n",
    "    for k in range(num_terms):\n",
    "        pi_estimate += (-1)**k / (2 * k + 1)\n",
    "\n",
    "    return pi_estimate * 4\n"
   ]
  },
  {
   "cell_type": "code",
   "execution_count": 55,
   "id": "45db47b4",
   "metadata": {},
   "outputs": [
    {
     "name": "stdout",
     "output_type": "stream",
     "text": [
      "蒙特卡洛方法: 3.1414912000, 运行时间: 11.1435秒\n",
      "莱布尼茨级数法: 3.1415925536, 运行时间: 5.2148秒\n"
     ]
    }
   ],
   "source": [
    "import time\n",
    "\n",
    "# 目标精度\n",
    "target_precision = 10  # 保留到小数点后10位\n",
    "\n",
    "# 测试蒙特卡洛方法\n",
    "start_time = time.time()\n",
    "pi_monte_carlo = monte_carlo_pi(10000000)\n",
    "end_time = time.time()\n",
    "print(f\"蒙特卡洛方法: {pi_monte_carlo:.{target_precision}f}, 运行时间: {end_time - start_time:.4f}秒\")\n",
    "\n",
    "# 测试莱布尼茨级数法\n",
    "start_time = time.time()\n",
    "pi_leibniz = leibniz_pi(10000000)\n",
    "end_time = time.time()\n",
    "print(f\"莱布尼茨级数法: {pi_leibniz:.{target_precision}f}, 运行时间: {end_time - start_time:.4f}秒\")\n",
    "\n"
   ]
  },
  {
   "cell_type": "code",
   "execution_count": 57,
   "id": "c3b5a330",
   "metadata": {},
   "outputs": [
    {
     "name": "stdout",
     "output_type": "stream",
     "text": [
      "使用蒙特卡洛方法估计的定积分值: 11.8113876393\n"
     ]
    }
   ],
   "source": [
    "#第9题\n",
    "import random\n",
    "import math\n",
    "# 定积分的区间\n",
    "a = 2\n",
    "b = 3\n",
    "\n",
    "# 生成随机 x 值在区间 [2, 3] 上\n",
    "num_samples = 1000000  # 可根据需要调整样本数量\n",
    "random_x_values = [random.uniform(a, b) for _ in range(num_samples)]\n",
    "\n",
    "# 计算每个 x 对应的函数值\n",
    "def f(x):\n",
    "    return x**2 + 4 * x * (lambda x: math.sin(x))(x)  # 使用 lambda 表达式计算 sin(x)\n",
    "\n",
    "function_values = [f(x) for x in random_x_values]\n",
    "\n",
    "# 计算定积分的估计值\n",
    "integral_estimate = sum(function_values) / num_samples * (b - a)\n",
    "\n",
    "print(f\"使用蒙特卡洛方法估计的定积分值: {integral_estimate:.10f}\")\n"
   ]
  },
  {
   "cell_type": "code",
   "execution_count": null,
   "id": "c40da54b",
   "metadata": {},
   "outputs": [],
   "source": []
  }
 ],
 "metadata": {
  "kernelspec": {
   "display_name": "Python [conda env:machinelearning] *",
   "language": "python",
   "name": "conda-env-machinelearning-py"
  },
  "language_info": {
   "codemirror_mode": {
    "name": "ipython",
    "version": 3
   },
   "file_extension": ".py",
   "mimetype": "text/x-python",
   "name": "python",
   "nbconvert_exporter": "python",
   "pygments_lexer": "ipython3",
   "version": "3.8.18"
  }
 },
 "nbformat": 4,
 "nbformat_minor": 5
}
